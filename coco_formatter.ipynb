{
 "cells": [
  {
   "cell_type": "code",
   "execution_count": 1,
   "metadata": {},
   "outputs": [],
   "source": [
    "import os\n",
    "import json\n",
    "import random\n",
    "from tqdm import tqdm\n",
    "from glob import glob"
   ]
  },
  {
   "cell_type": "code",
   "execution_count": null,
   "metadata": {},
   "outputs": [],
   "source": [
    "def bdd100k_to_coco(split_name, annotation_files, output_coco_json):\n",
    "    coco_data = {\n",
    "        \"images\": [],\n",
    "        \"annotations\": [],\n",
    "        \"categories\": []\n",
    "    }\n",
    "\n",
    "    classes_2_idx = {'traffic sign':0, 'traffic light':1, 'person':2, 'car':3, 'truck':4, 'bus':5}\n",
    "    idx_2_class = {v: k for k, v in classes_2_idx.items()}\n",
    "\n",
    "    annotation_id = 1\n",
    "    image_id = 1\n",
    "\n",
    "    print(f'--> {split_name} split COCO construction')\n",
    "    for annot_file in tqdm(annotation_files, total=len(annotation_files)):\n",
    "        with open(annot_file, \"r\") as f:\n",
    "            bdd_data = json.load(f)\n",
    "\n",
    "        image_name = bdd_data['name']\n",
    "        image_objects = bdd_data['frames'][0]['objects']\n",
    "        width, height = 1280, 720\n",
    "        image_suffix = \".jpg\"\n",
    "\n",
    "        # Add image metadata\n",
    "        coco_data[\"images\"].append({\n",
    "            \"id\": image_id,\n",
    "            \"file_name\": image_name+image_suffix,\n",
    "            \"width\": width,\n",
    "            \"height\": height\n",
    "        })\n",
    "\n",
    "        for image_object in image_objects:\n",
    "\n",
    "            if 'box2d' in image_object:\n",
    "                object_name = image_object['category']\n",
    "\n",
    "                if object_name in classes_2_idx.keys():\n",
    "                    object_idx = classes_2_idx[object_name]\n",
    "\n",
    "                    coco_data[\"categories\"].append({\n",
    "                        \"id\": object_idx,\n",
    "                        \"name\": object_name\n",
    "                    })\n",
    "                    \n",
    "                \n",
    "                    x1, y1, x2, y2 = image_object[\"box2d\"][\"x1\"], image_object[\"box2d\"][\"y1\"], image_object[\"box2d\"][\"x2\"], image_object[\"box2d\"][\"y2\"]\n",
    "                    width_bbox, height_bbox = x2 - x1, y2 - y1\n",
    "                    area = width_bbox * height_bbox\n",
    "\n",
    "                    coco_data[\"annotations\"].append({\n",
    "                        \"id\": annotation_id,\n",
    "                        \"image_id\": image_id,\n",
    "                        \"category_id\": object_idx,\n",
    "                        \"bbox\": [x1, y1, width_bbox, height_bbox],\n",
    "                        \"area\": area,\n",
    "                        \"iscrowd\": 0\n",
    "                    })\n",
    "                    annotation_id += 1\n",
    "\n",
    "        image_id += 1\n",
    "    \n",
    "    save_coco_path = split_name + '_' + output_coco_json\n",
    "    with open(save_coco_path, \"w\") as f:\n",
    "        json.dump(coco_data, f, indent=4)\n",
    "\n",
    "    print(f\"BDD100K annotations in {split_name} split converted to COCO format -> {save_coco_path}\")\n",
    "    print('-*-'*20)\n"
   ]
  },
  {
   "cell_type": "code",
   "execution_count": 3,
   "metadata": {},
   "outputs": [],
   "source": [
    "## Dataset Definitions\n",
    "ds_main_path = r'C:\\BDD100K\\100k_labels'\n",
    "ds_splits = ['train', 'val', 'test']"
   ]
  },
  {
   "cell_type": "code",
   "execution_count": null,
   "metadata": {},
   "outputs": [
    {
     "name": "stdout",
     "output_type": "stream",
     "text": [
      "['C:\\\\BDD100K\\\\100k_labels\\\\train\\\\7a4cba5c-7f79912f.json', 'C:\\\\BDD100K\\\\100k_labels\\\\train\\\\51cad596-5813fa03.json', 'C:\\\\BDD100K\\\\100k_labels\\\\train\\\\17719f6d-8337aae5.json']\n"
     ]
    }
   ],
   "source": [
    "for ds_split in ds_splits:\n",
    "    my_object_classes = dict()\n",
    "    split_path = os.path.join(ds_main_path, ds_split)\n",
    "\n",
    "    json_files = os.listdir(split_path)\n",
    "    json_files_paths = [os.path.join(split_path, json_file) for json_file in json_files]\n",
    "\n",
    "    # since my comp. resource is limited, only shuffle and choose 100 images\n",
    "    random.shuffle(json_files_paths)\n",
    "    json_files_paths = json_files_paths[:100]\n",
    "\n",
    "    bdd100k_to_coco(ds_split, json_files_paths, 'subset_COCO_Format.json')\n"
   ]
  },
  {
   "cell_type": "code",
   "execution_count": null,
   "metadata": {},
   "outputs": [],
   "source": []
  }
 ],
 "metadata": {
  "kernelspec": {
   "display_name": "pytorch",
   "language": "python",
   "name": "python3"
  },
  "language_info": {
   "codemirror_mode": {
    "name": "ipython",
    "version": 3
   },
   "file_extension": ".py",
   "mimetype": "text/x-python",
   "name": "python",
   "nbconvert_exporter": "python",
   "pygments_lexer": "ipython3",
   "version": "3.8.19"
  }
 },
 "nbformat": 4,
 "nbformat_minor": 2
}
