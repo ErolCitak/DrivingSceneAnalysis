{
 "cells": [
  {
   "cell_type": "code",
   "execution_count": 32,
   "metadata": {},
   "outputs": [],
   "source": [
    "import os\n",
    "import json\n",
    "\n",
    "from tqdm import tqdm"
   ]
  },
  {
   "cell_type": "code",
   "execution_count": null,
   "metadata": {},
   "outputs": [],
   "source": [
    "## Dataset Definitions\n",
    "ds_main_path = r'C:\\BDD100K\\100k_labels'\n",
    "ds_splits = ['train', 'val', 'test']"
   ]
  },
  {
   "cell_type": "code",
   "execution_count": 55,
   "metadata": {},
   "outputs": [
    {
     "name": "stderr",
     "output_type": "stream",
     "text": [
      "100%|██████████| 70000/70000 [00:11<00:00, 5868.00it/s]\n"
     ]
    },
    {
     "name": "stdout",
     "output_type": "stream",
     "text": [
      "Distribution of the train split\n",
      "-*-*-*-*-*-*-*-*-*-*-*-*-*-*-*-*-*-*-*-*\n",
      "{'traffic light': 186301, 'traffic sign': 239961, 'car': 714121, 'person': 91435, 'bus': 11688, 'truck': 30012, 'rider': 4522, 'bike': 7227, 'motor': 3002, 'train': 136}\n",
      "-*-*-*-*-*-*-*-*-*-*-*-*-*-*-*-*-*-*-*-*\n"
     ]
    },
    {
     "name": "stderr",
     "output_type": "stream",
     "text": [
      "100%|██████████| 10000/10000 [00:01<00:00, 6182.82it/s]\n"
     ]
    },
    {
     "name": "stdout",
     "output_type": "stream",
     "text": [
      "Distribution of the val split\n",
      "-*-*-*-*-*-*-*-*-*-*-*-*-*-*-*-*-*-*-*-*\n",
      "{'traffic sign': 34915, 'traffic light': 26891, 'car': 102540, 'rider': 649, 'motor': 452, 'person': 13265, 'bus': 1597, 'truck': 4247, 'bike': 1007, 'train': 15}\n",
      "-*-*-*-*-*-*-*-*-*-*-*-*-*-*-*-*-*-*-*-*\n"
     ]
    },
    {
     "name": "stderr",
     "output_type": "stream",
     "text": [
      "100%|██████████| 20000/20000 [00:03<00:00, 6273.13it/s]"
     ]
    },
    {
     "name": "stdout",
     "output_type": "stream",
     "text": [
      "Distribution of the test split\n",
      "-*-*-*-*-*-*-*-*-*-*-*-*-*-*-*-*-*-*-*-*\n",
      "{'traffic sign': 69006, 'car': 205150, 'person': 24650, 'truck': 8704, 'motor': 841, 'rider': 1294, 'traffic light': 52840, 'bus': 3217, 'bike': 1998, 'train': 28}\n",
      "-*-*-*-*-*-*-*-*-*-*-*-*-*-*-*-*-*-*-*-*\n"
     ]
    },
    {
     "name": "stderr",
     "output_type": "stream",
     "text": [
      "\n"
     ]
    }
   ],
   "source": [
    "for ds_split in ds_splits:\n",
    "    my_object_classes = dict()\n",
    "    split_path = os.path.join(ds_main_path, ds_split)\n",
    "\n",
    "    json_files = os.listdir(split_path)\n",
    "\n",
    "    for json_file in tqdm(json_files, total=len(json_files)):\n",
    "        json_path = os.path.join(split_path, json_file)\n",
    "\n",
    "        with open(json_path, \"r\") as f:\n",
    "            bdd_data = json.load(f)\n",
    "\n",
    "            image_name = bdd_data['name']\n",
    "            image_objects = bdd_data['frames'][0]['objects']\n",
    "\n",
    "            for image_object in image_objects:\n",
    "\n",
    "                if 'box2d' in image_object:\n",
    "                    object_name = image_object['category']\n",
    "\n",
    "                    if object_name not in my_object_classes.keys():\n",
    "                        my_object_classes[object_name] = 1\n",
    "                    else:\n",
    "                        my_object_classes[object_name] = my_object_classes[object_name] + 1\n",
    "    \n",
    "    print(f'Distribution of the {ds_split} split')\n",
    "    print('-*'*20)\n",
    "    print(my_object_classes)\n",
    "    print('-*'*20)"
   ]
  },
  {
   "cell_type": "code",
   "execution_count": 57,
   "metadata": {},
   "outputs": [
    {
     "data": {
      "text/plain": [
       "['traffic sign',\n",
       " 'car',\n",
       " 'person',\n",
       " 'truck',\n",
       " 'motor',\n",
       " 'rider',\n",
       " 'traffic light',\n",
       " 'bus',\n",
       " 'bike',\n",
       " 'train']"
      ]
     },
     "execution_count": 57,
     "metadata": {},
     "output_type": "execute_result"
    }
   ],
   "source": [
    "list(my_object_classes.keys())"
   ]
  },
  {
   "cell_type": "code",
   "execution_count": null,
   "metadata": {},
   "outputs": [],
   "source": []
  }
 ],
 "metadata": {
  "kernelspec": {
   "display_name": "pytorch",
   "language": "python",
   "name": "python3"
  },
  "language_info": {
   "codemirror_mode": {
    "name": "ipython",
    "version": 3
   },
   "file_extension": ".py",
   "mimetype": "text/x-python",
   "name": "python",
   "nbconvert_exporter": "python",
   "pygments_lexer": "ipython3",
   "version": "3.8.19"
  }
 },
 "nbformat": 4,
 "nbformat_minor": 2
}
